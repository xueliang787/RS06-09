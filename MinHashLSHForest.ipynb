{
  "nbformat": 4,
  "nbformat_minor": 0,
  "metadata": {
    "colab": {
      "name": "MinHashLSHForest",
      "provenance": [],
      "collapsed_sections": [],
      "authorship_tag": "ABX9TyOufCkjt8co62jrzsUZ3W79"
    },
    "kernelspec": {
      "name": "python3",
      "display_name": "Python 3"
    },
    "accelerator": "GPU"
  },
  "cells": [
    {
      "cell_type": "code",
      "metadata": {
        "id": "s-hAxBHOIbv5",
        "colab_type": "code",
        "outputId": "c73253aa-7acc-4e60-e9ec-206da8cf1d8c",
        "colab": {
          "base_uri": "https://localhost:8080/",
          "height": 50
        }
      },
      "source": [
        "!pip install datasketch"
      ],
      "execution_count": 8,
      "outputs": [
        {
          "output_type": "stream",
          "text": [
            "Requirement already satisfied: datasketch in /usr/local/lib/python3.6/dist-packages (1.5.1)\n",
            "Requirement already satisfied: numpy>=1.11 in /usr/local/lib/python3.6/dist-packages (from datasketch) (1.18.2)\n"
          ],
          "name": "stdout"
        }
      ]
    },
    {
      "cell_type": "code",
      "metadata": {
        "id": "7tYleU6q8WhR",
        "colab_type": "code",
        "colab": {
          "base_uri": "https://localhost:8080/",
          "height": 34
        },
        "outputId": "d67adbd4-34c9-4992-eebe-e898096f23c4"
      },
      "source": [
        "from google.colab import drive\n",
        "drive.mount('/content/drive')\n",
        "import os\n",
        "os.chdir(\"/content/drive/My Drive/Colab Notebooks/\")"
      ],
      "execution_count": 9,
      "outputs": [
        {
          "output_type": "stream",
          "text": [
            "Drive already mounted at /content/drive; to attempt to forcibly remount, call drive.mount(\"/content/drive\", force_remount=True).\n"
          ],
          "name": "stdout"
        }
      ]
    },
    {
      "cell_type": "code",
      "metadata": {
        "id": "Gn9XGSF18fd4",
        "colab_type": "code",
        "colab": {}
      },
      "source": [
        "# 对微博新闻句子进行相似句子Top-K查询\n",
        "from datasketch import MinHash, MinHashLSH, MinHashLSHForest\n",
        "from sklearn.feature_extraction.text import TfidfVectorizer\n",
        "import jieba.posseg as pseg\n",
        "import re"
      ],
      "execution_count": 0,
      "outputs": []
    },
    {
      "cell_type": "code",
      "metadata": {
        "id": "yNrkinIF8fjl",
        "colab_type": "code",
        "colab": {
          "base_uri": "https://localhost:8080/",
          "height": 34
        },
        "outputId": "fb733009-4548-45b7-d860-42d9a4ba74a2"
      },
      "source": [
        "f = open('weibos.txt', 'r', encoding='UTF-8')\n",
        "text = f.read()\n",
        "# 以句号，叹号，问号作为分隔，去掉\\n换行符号\n",
        "sentences = re.split(r'\\n',text.replace('\\u200b',''))\n",
        "\n",
        "# 最后一行如果为空，则删除\n",
        "if sentences[len(sentences)-1] == '':\n",
        "    sentences.pop()\n",
        "print(len(sentences))"
      ],
      "execution_count": 23,
      "outputs": [
        {
          "output_type": "stream",
          "text": [
            "17\n"
          ],
          "name": "stdout"
        }
      ]
    },
    {
      "cell_type": "code",
      "metadata": {
        "id": "pppYW9zj8flp",
        "colab_type": "code",
        "colab": {
          "base_uri": "https://localhost:8080/",
          "height": 322
        },
        "outputId": "af1799d1-ebe0-45b6-bbb3-be383fdce1e8"
      },
      "source": [
        "for sentence in sentences:\n",
        "  print(sentence)"
      ],
      "execution_count": 24,
      "outputs": [
        {
          "output_type": "stream",
          "text": [
            "#斯科拉里愿意执教国足#上一届如果是里皮从头芾到尾，是很大机会入世界杯的，这一届，没几个能用的，除非大力归化，谁来都没用。 \n",
            "国足输给叙利亚之后，里皮辞职。谁将成为新主帅，成为广大球迷关注的焦点。目前舆论方面，倾向于三个人：山东鲁能主帅李霄鹏、武汉卓尔主帅李铁、前广州恒大主帅斯科拉里。 \n",
            "据了解，无论中国足协态度如何，里皮其实在宣布请辞同时已经去意已决。据了解。比赛当晚，他的太太西蒙内塔女士及儿子小里皮都在现场看台上观战。辞职后的里皮没有改变原有的计划——赛后第二天他会从迪拜直接飞回意大利。这意味着，他本来也没打算与球队管理层或中国足协高层在赛后第一时间内进行有关辞职的对话。至于辞职以后的善后工作包括合同问题的沟通工作也要待日后双方进一步协商。\n",
            "让我们回顾一下国足历届外籍教练——里皮，佩兰，卡马乔，杜伊科维奇，阿里·汉，米卢……。来之前一个比一个有名，来之后一个比一个水，国足踢不好完全是足协的问题，足协不解散重组，你把天王老子请来都不行\n",
            "斯科拉里想执教中国国足！老头有点意思，凡是里皮干过的地方，他就想试试。当然，老头也是世界杯冠军教头，万一折在中国这里也没啥丢人的，毕竟里皮也折了嘛！可以试试！\n",
            "斯科拉里的水平，还不如里皮。斯科拉里，看好的不是国足，而是年薪…… \n",
            "非常应该辞职！中国足球，不需要名帅，也不需要外籍教练，因为一点儿毛用也没有！从施拉普纳到现在，二十余年间，中国足球竟然大踏步的倒退，一点儿也杀不住车，奶奶的，刹车系统坏了！穿着几百块钱的球衣，几千块钱的球鞋，几万块钱的包，几十万的包机，几百万上千万的年薪\n",
            "赛后，叙利亚主教练在更衣室里给每个队员一个耳光。主教练说：“赛前老子就再三交代，这一场无论如何都不能赢中国队！中国援助了我们那么多粮食和美金，如果他们不再援助我们国家，你狗日些要吃土去！”，球员委屈的说：“七十多分钟了，哪个晓得那个龟儿子往他们家球门踢嘛？”\n",
            "里皮辞职返回意大利，他的助教马达洛尼随队返回广州。马达洛尼在接受采访时还原了当时更衣室中的情况：“当时在更衣室，球员们都过来试图说服里皮，让他收回决定，队长郑智尝试阻止他，足协的代表也希望他在考虑一下，我也建议他重新考虑，但无济于事。”\n",
            "中国足协：接受里皮辞职请求，将深刻反思\n",
            "看了个报道，马达洛尼说：“关于里皮的辞职，我事先也没有被告知，自己也不清楚发生了什么，也许是里皮头脑一热的决定。足协也可以留下我们，教练组所有成员都愿意留下，我们也可以和其他教练合作。” \n",
            "因为中国队给斯科拉里开足了薪水，给足了他需要的条件！尤其是最后一句话，看好中国队的潜力，这句话真是太鼓舞人心啦！ 带队结果绝不会比里皮更差， 而且我一定能带国足夺得2022世界杯冠军！大家支持斯科拉里不？ \n",
            "曾经也以为世界名帅里皮能够带领国足走出迷茫，让国足蒸蒸日上，也让我们国人不再迷茫，吃下一颗定心丸。现在我才知道，其实最应改变的不是教练，而是我们的国足，我们的训练机制、学习机制、培养机制。只有真正做好这些，才能使无论哪位名帅接手都能游刃有余地打好比赛。\n",
            "国足输给叙利亚后，里皮坐不住了，直接辞职了\n",
            "难怪有网友说，爱护生命，远离男足。男足的水平也就跟南极洲企鹅踢球。\n",
            "足协主席赠书《红星照我去战斗》送给中国国脚，埃尔克森、里皮懂红色文化吗？\n",
            "国足昨晚1-2输给叙利亚，赛后主帅里皮宣布辞职。\n"
          ],
          "name": "stdout"
        }
      ]
    },
    {
      "cell_type": "code",
      "metadata": {
        "id": "HAkuPBFa8foN",
        "colab_type": "code",
        "colab": {
          "base_uri": "https://localhost:8080/",
          "height": 84
        },
        "outputId": "f00f39e1-88a7-4d3b-a397-40fb51c6838b"
      },
      "source": [
        "# 将item_text进行分词\n",
        "def get_item_str(item_text):\n",
        "    item_str = \"\" \n",
        "    item=(pseg.cut(item_text)) \n",
        "    for i in list(item):\n",
        "        #去掉停用词\n",
        "        if i.word not in list(stop):  \n",
        "            item_str += i.word\n",
        "            #tfidf_vectorizer.fit_transform的输入需要空格分隔的单词\n",
        "            item_str += \" \"\n",
        "    return item_str\n",
        "# 对item_str创建MinHash\n",
        "def get_minhash(item_str):\n",
        "    temp = MinHash()\n",
        "    for d in item_str:\n",
        "        temp.update(d.encode('utf8'))\n",
        "    return temp\n",
        "\n",
        "# 设置停用词在stopword文件中\n",
        "stop = [line.strip().encode('utf-8') for line in open('stopword.txt').readlines()]\n",
        "\n",
        "# 得到分词后的documents\n",
        "documents = []\n",
        "for item_text in sentences:\n",
        "    # 将item_text进行分词\n",
        "    item_str = get_item_str(item_text)\n",
        "    documents.append(item_str)"
      ],
      "execution_count": 28,
      "outputs": [
        {
          "output_type": "stream",
          "text": [
            "Building prefix dict from the default dictionary ...\n",
            "Dumping model to file cache /tmp/jieba.cache\n",
            "Loading model cost 0.793 seconds.\n",
            "Prefix dict has been built successfully.\n"
          ],
          "name": "stderr"
        }
      ]
    },
    {
      "cell_type": "code",
      "metadata": {
        "id": "2Dc13eA38fqy",
        "colab_type": "code",
        "colab": {
          "base_uri": "https://localhost:8080/",
          "height": 104
        },
        "outputId": "9894ac0e-7d84-4606-ca5d-4ac34c810c14"
      },
      "source": [
        "# 创建LSH Forest及MinHash对象\n",
        "minhash_list = []\n",
        "forest = MinHashLSHForest()\n",
        "for i in range(len(documents)):\n",
        "    #得到train_documents[i]的MinHash\n",
        "    temp = get_minhash(documents[i])\n",
        "    minhash_list.append(temp)\n",
        "    forest.add(i, temp)\n",
        "# index所有key，以便可以进行检索\n",
        "forest.index()\n",
        "\n",
        "query = '国足昨晚1-2输给叙利亚，赛后主帅里皮宣布辞职。'\n",
        "# 将item_text进行分词\n",
        "item_str = get_item_str(query)\n",
        "# 得到item_str的MinHash\n",
        "minhash_query = get_minhash(item_str)\n",
        "\n",
        "# 查询forest中与m1相似的Top-K个邻居\n",
        "result = forest.query(minhash_query, 3)\n",
        "for i in range(len(result)):\n",
        "    print(result[i], minhash_query.jaccard(minhash_list[result[i]]), documents[result[i]].replace(' ', ''))\n",
        "print(\"Top 3 邻居\", result)"
      ],
      "execution_count": 31,
      "outputs": [
        {
          "output_type": "stream",
          "text": [
            "16 1.0 国足昨晚1-2输给叙利亚，赛后主帅里皮宣布辞职。\n",
            "13 0.453125 国足输给叙利亚后，里皮坐不住了，直接辞职了\n",
            "7 0.15625 赛后，叙利亚主教练在更衣室里给每个队员一个耳光。主教练说：“赛前老子就再三交代，这一场无论如何都不能赢中国队！中国援助了我们那么多粮食和美金，如果他们不再援助我们国家，你狗日些要吃土去！”，球员委屈的说：“七十多分钟了，哪个晓得那个龟儿子往他们家球门踢嘛？”\n",
            "Top 3 邻居 [16, 13, 7]\n"
          ],
          "name": "stdout"
        }
      ]
    }
  ]
}